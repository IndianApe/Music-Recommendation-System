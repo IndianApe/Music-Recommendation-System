{
 "cells": [
  {
   "cell_type": "code",
   "execution_count": 1,
   "id": "fb22f5bd-90c9-4896-8c70-b7cf7f34d47e",
   "metadata": {},
   "outputs": [
    {
     "name": "stdout",
     "output_type": "stream",
     "text": [
      "Step 1: Loading and preparing data...\n",
      "Data preparation complete. Final data shape: (210323, 3)\n",
      "----------------------------------------\n",
      "Step 2: Training the recommendation model...\n",
      "This might take a minute...\n",
      "\n",
      "Model training complete! 🎉\n"
     ]
    }
   ],
   "source": [
    "# Part 1: Load, Explore, and Prepare the Data\n",
    "import pandas as pd\n",
    "\n",
    "print(\"Step 1: Loading and preparing data...\")\n",
    "\n",
    "column_names = ['user_id', 'song_id', 'play_count']\n",
    "df = pd.read_csv('train_triplets.txt', \n",
    "                 sep='\\t', \n",
    "                 header=None, \n",
    "                 names=column_names, \n",
    "                 nrows=1000000)\n",
    "\n",
    "# Filter for popular songs and active users\n",
    "song_play_counts = df.groupby('song_id')['play_count'].count()\n",
    "popular_songs = song_play_counts[song_play_counts >= 50].index\n",
    "df_popular = df[df['song_id'].isin(popular_songs)]\n",
    "\n",
    "user_play_counts = df_popular.groupby('user_id')['play_count'].count()\n",
    "active_users = user_play_counts[user_play_counts >= 20].index\n",
    "df_final = df_popular[df_popular['user_id'].isin(active_users)]\n",
    "\n",
    "print(\"Data preparation complete. Final data shape:\", df_final.shape)\n",
    "print(\"-\" * 40)\n",
    "\n",
    "\n",
    "# Part 2: Build the Recommendation Model\n",
    "from surprise import Reader, Dataset, SVD\n",
    "\n",
    "print(\"Step 2: Training the recommendation model...\")\n",
    "print(\"This might take a minute...\")\n",
    "\n",
    "# Load the data into the Surprise library format\n",
    "reader = Reader(rating_scale=(df_final['play_count'].min(), df_final['play_count'].max()))\n",
    "data = Dataset.load_from_df(df_final[['user_id', 'song_id', 'play_count']], reader)\n",
    "\n",
    "# Build a training set from the entire dataset\n",
    "trainset = data.build_full_trainset()\n",
    "\n",
    "# Create and train the SVD model\n",
    "model = SVD()\n",
    "model.fit(trainset)\n",
    "\n",
    "print(\"\\nModel training complete! 🎉\")"
   ]
  },
  {
   "cell_type": "code",
   "execution_count": 2,
   "id": "fb0ad00c-db51-4e35-8603-94a167108a84",
   "metadata": {},
   "outputs": [
    {
     "name": "stdout",
     "output_type": "stream",
     "text": [
      "Getting recommendations for user: b80344d063b5ccb3212f76538f3d9e43d87dca9e\n",
      "\n",
      "Predicting scores for unheard songs...\n",
      "\n",
      "------------------------------------\n",
      "Top 10 song recommendations:\n",
      "                 song_id  predicted_score\n",
      "0     SOAUWYT12A81C206F1              436\n",
      "1930  SOCGFSH12A81C238C6              436\n",
      "1910  SOYCGZK12AB018B261              436\n",
      "1911  SOYLYFL12A8AE45FA4              436\n",
      "1912  SOZWQWL12A58A7EA09              436\n",
      "1913  SOBJMPB12A6701F785              436\n",
      "1914  SOBNTFK12A6701F1CF              436\n",
      "1915  SOGUKDL12A6D4FAAB9              436\n",
      "1916  SOHYRWW12A6D4F7A41              436\n",
      "1917  SOLQRUG12A8AE45DE1              436\n"
     ]
    }
   ],
   "source": [
    "# --- Pick a user to recommend for (we'll just take the first user in our dataset) ---\n",
    "target_user_id = df_final['user_id'].iloc[0]\n",
    "print(f\"Getting recommendations for user: {target_user_id}\\n\")\n",
    "\n",
    "# --- Get a list of all unique song IDs in the dataset ---\n",
    "all_song_ids = df_final['song_id'].unique()\n",
    "\n",
    "# --- Get the list of songs the user has already listened to ---\n",
    "listened_song_ids = df_final[df_final['user_id'] == target_user_id]['song_id'].tolist()\n",
    "\n",
    "# --- Create a list of songs the user has NOT listened to ---\n",
    "unheard_songs = [song_id for song_id in all_song_ids if song_id not in listened_song_ids]\n",
    "\n",
    "# --- Predict scores for all the unheard songs ---\n",
    "print(\"Predicting scores for unheard songs...\")\n",
    "predictions = []\n",
    "for song_id in unheard_songs:\n",
    "    # The model.predict() method returns a prediction object.\n",
    "    # The predicted rating is in the 'est' attribute (for estimate).\n",
    "    predicted_score = model.predict(uid=target_user_id, iid=song_id).est\n",
    "    predictions.append((song_id, predicted_score))\n",
    "\n",
    "# --- Sort the predictions and get the top 10 ---\n",
    "# We'll put the predictions into a pandas DataFrame for easy sorting\n",
    "recommendations_df = pd.DataFrame(predictions, columns=['song_id', 'predicted_score'])\n",
    "top_10_recommendations = recommendations_df.sort_values(by='predicted_score', ascending=False).head(10)\n",
    "\n",
    "# --- Display the results ---\n",
    "print(\"\\n------------------------------------\")\n",
    "print(\"Top 10 song recommendations:\")\n",
    "print(top_10_recommendations)"
   ]
  },
  {
   "cell_type": "code",
   "execution_count": 3,
   "id": "e44512ac-6bea-46d4-ad9b-66b6e0149e6d",
   "metadata": {},
   "outputs": [
    {
     "name": "stdout",
     "output_type": "stream",
     "text": [
      "RMSE: 432.9985\n",
      "\n",
      "The RMSE score for our model is: 432.9985\n"
     ]
    }
   ],
   "source": [
    "from surprise.model_selection import train_test_split\n",
    "from surprise import accuracy\n",
    "\n",
    "# Split the data into a training set and a testing set (80% / 20%)\n",
    "trainset, testset = train_test_split(data, test_size=0.20)\n",
    "\n",
    "# Create and train the SVD model on the training set\n",
    "model = SVD()\n",
    "model.fit(trainset)\n",
    "\n",
    "# Make predictions on the test set\n",
    "predictions = model.test(testset)\n",
    "\n",
    "# Calculate and print the RMSE score\n",
    "rmse = accuracy.rmse(predictions)\n",
    "print(f\"\\nThe RMSE score for our model is: {rmse:.4f}\")"
   ]
  },
  {
   "cell_type": "code",
   "execution_count": 4,
   "id": "ff35d190-a32b-49c8-9493-4642604cb1b1",
   "metadata": {},
   "outputs": [
    {
     "name": "stdout",
     "output_type": "stream",
     "text": [
      "Saving model to music_recommender_model.pkl...\n",
      "Model saved successfully!\n",
      "\n",
      "Loading model back from file...\n",
      "Model loaded successfully!\n",
      "\n",
      "Test prediction with loaded model: 436.0000\n"
     ]
    }
   ],
   "source": [
    "import pickle\n",
    "\n",
    "# --- Save the Model to a File ---\n",
    "model_filename = 'music_recommender_model.pkl'\n",
    "print(f\"Saving model to {model_filename}...\")\n",
    "with open(model_filename, 'wb') as file:\n",
    "    pickle.dump(model, file)\n",
    "print(\"Model saved successfully!\")\n",
    "\n",
    "\n",
    "# --- Load the Model From the File ---\n",
    "print(\"\\nLoading model back from file...\")\n",
    "with open(model_filename, 'rb') as file:\n",
    "    loaded_model = pickle.load(file)\n",
    "print(\"Model loaded successfully!\")\n",
    "\n",
    "\n",
    "# --- Test the Loaded Model ---\n",
    "# Let's test it by predicting a score for a user and song\n",
    "# (We'll just use the IDs from our test in the previous step)\n",
    "test_user = df_final['user_id'].iloc[0]\n",
    "test_song = df_final['song_id'].iloc[0]\n",
    "\n",
    "prediction = loaded_model.predict(uid=test_user, iid=test_song)\n",
    "print(f\"\\nTest prediction with loaded model: {prediction.est:.4f}\")"
   ]
  },
  {
   "cell_type": "code",
   "execution_count": null,
   "id": "89cf1ae1-4565-4ca4-93dc-63e3e777e86f",
   "metadata": {},
   "outputs": [],
   "source": []
  }
 ],
 "metadata": {
  "kernelspec": {
   "display_name": "Python 3 (ipykernel)",
   "language": "python",
   "name": "python3"
  },
  "language_info": {
   "codemirror_mode": {
    "name": "ipython",
    "version": 3
   },
   "file_extension": ".py",
   "mimetype": "text/x-python",
   "name": "python",
   "nbconvert_exporter": "python",
   "pygments_lexer": "ipython3",
   "version": "3.11.13"
  }
 },
 "nbformat": 4,
 "nbformat_minor": 5
}
